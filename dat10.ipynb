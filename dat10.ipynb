{
 "cells": [
  {
   "cell_type": "code",
   "execution_count": 3,
   "id": "initial_id",
   "metadata": {
    "ExecuteTime": {
     "end_time": "2024-05-06T15:58:27.200214Z",
     "start_time": "2024-05-06T15:58:26.866329Z"
    }
   },
   "outputs": [
    {
     "name": "stdout",
     "output_type": "stream",
     "text": [
      "termino1: 0\n",
      "termino2: 2\n",
      "termino3: 4\n",
      "termino4: 6\n",
      "termino5: 8\n",
      "termino6: 10\n",
      "termino7: 12\n",
      "termino8: 14\n"
     ]
    }
   ],
   "source": [
    "import multiprocessing\n",
    "\n",
    "def numPar(n):\n",
    "    return 2*n\n",
    "    \n",
    "        \n",
    "\n",
    "def calcular_fibonacci_multiproceso(inicio, fin):\n",
    "    with multiprocessing.Pool() as pool:\n",
    "        resultados = pool.map(numPar, range(inicio, fin))\n",
    "    return resultados\n",
    "\n",
    "if __name__ == \"__main__\":\n",
    "    num_procesadores = multiprocessing.cpu_count()\n",
    "    terminos_por_procesador = 10 // num_procesadores\n",
    "    rangos = [(i * terminos_por_procesador, (i + 1) * terminos_por_procesador) for i in range(num_procesadores)]\n",
    "\n",
    "    resultados = []\n",
    "    for inicio, fin in rangos:\n",
    "        resultados.extend(calcular_fibonacci_multiproceso(inicio, fin))\n",
    "\n",
    "    # Imprimir los primeros 1000 términos de Fibonacci\n",
    "    for i, resultado in enumerate(resultados):\n",
    "        print(f\"termino{i+1}: {resultado}\")\n"
   ]
  }
 ],
 "metadata": {
  "kernelspec": {
   "display_name": "Python 3 (ipykernel)",
   "language": "python",
   "name": "python3"
  },
  "language_info": {
   "codemirror_mode": {
    "name": "ipython",
    "version": 3
   },
   "file_extension": ".py",
   "mimetype": "text/x-python",
   "name": "python",
   "nbconvert_exporter": "python",
   "pygments_lexer": "ipython3",
   "version": "3.11.8"
  }
 },
 "nbformat": 4,
 "nbformat_minor": 5
}
