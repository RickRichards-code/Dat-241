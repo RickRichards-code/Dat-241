{
 "cells": [
  {
   "cell_type": "code",
   "execution_count": 4,
   "id": "initial_id",
   "metadata": {
    "collapsed": true,
    "ExecuteTime": {
     "end_time": "2024-06-18T04:40:54.702032Z",
     "start_time": "2024-06-18T04:38:46.242905Z"
    }
   },
   "outputs": [],
   "source": [
    "import numpy as np\n",
    "import multiprocessing as mp\n",
    "\n",
    "\n",
    "def multFilaColum(A_row, B):\n",
    "    return [sum(a * b for a, b in zip(A_row, B_col)) for B_col in zip(*B)]\n",
    "\n",
    "\n",
    "def multiplicacion(A, B):\n",
    "    with mp.Pool(mp.cpu_count()) as pool:\n",
    "        result = pool.starmap(multFilaColum, [(A_row, B) for A_row in A])\n",
    "    return np.array(result)\n",
    "\n",
    "\n",
    "# Crear matrices de ejemplo\n",
    "A = np.loadtxt('matrizSparce1.csv', delimiter=',')\n",
    "B = np.loadtxt('matrizSparce2.csv', delimiter=',')\n",
    "\n",
    "# Multiplicar matrices usando multiprocessing\n",
    "C = multiplicacion(A, B)\n",
    "# print(C)\n",
    "np.savetxt('matrizParalea.csv', C, delimiter=',', fmt='%d')\n",
    "\n"
   ]
  }
 ],
 "metadata": {
  "kernelspec": {
   "display_name": "Python 3",
   "language": "python",
   "name": "python3"
  },
  "language_info": {
   "codemirror_mode": {
    "name": "ipython",
    "version": 2
   },
   "file_extension": ".py",
   "mimetype": "text/x-python",
   "name": "python",
   "nbconvert_exporter": "python",
   "pygments_lexer": "ipython2",
   "version": "2.7.6"
  }
 },
 "nbformat": 4,
 "nbformat_minor": 5
}
