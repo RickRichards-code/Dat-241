{
 "cells": [
  {
   "cell_type": "code",
   "execution_count": 7,
   "id": "initial_id",
   "metadata": {
    "collapsed": true,
    "ExecuteTime": {
     "end_time": "2024-06-18T00:20:25.112004Z",
     "start_time": "2024-06-18T00:20:21.011651Z"
    }
   },
   "outputs": [],
   "source": [
    "import numpy as np\n",
    "import cv2\n",
    "import matplotlib.pyplot as plt\n",
    "from scipy.sparse import csr_matrix\n",
    "\n",
    "\n",
    "\n",
    "# print(image[:10, :10]) \n",
    "img1 = cv2.imread(\"img/wall00.jpg\", cv2.IMREAD_GRAYSCALE)\n",
    "img2 = cv2.imread(\"img/wall01.jpg\", cv2.IMREAD_GRAYSCALE)\n",
    "\n",
    "matriz1 = 'matrizSparce1.csv'\n",
    "matriz2 = 'matrizSparce2.csv'\n",
    "multiplicacion = 'matrizSparce3.csv'\n",
    "\n",
    "np.savetxt(matriz1, img1, delimiter=',', fmt='%d')\n",
    "np.savetxt(matriz2, img2, delimiter=',', fmt='%d')\n",
    "\n",
    "A = np.genfromtxt(matriz1, delimiter=',')\n",
    "B = np.genfromtxt(matriz1, delimiter=',')\n",
    "C = np.dot(A, B)\n",
    "\n",
    "np.savetxt(multiplicacion, C, delimiter=',', fmt='%d')\n",
    "\n",
    "\n",
    "\n",
    "\n"
   ]
  }
 ],
 "metadata": {
  "kernelspec": {
   "display_name": "Python 3",
   "language": "python",
   "name": "python3"
  },
  "language_info": {
   "codemirror_mode": {
    "name": "ipython",
    "version": 2
   },
   "file_extension": ".py",
   "mimetype": "text/x-python",
   "name": "python",
   "nbconvert_exporter": "python",
   "pygments_lexer": "ipython2",
   "version": "2.7.6"
  }
 },
 "nbformat": 4,
 "nbformat_minor": 5
}
