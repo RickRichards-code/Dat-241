{
 "cells": [
  {
   "cell_type": "code",
   "execution_count": null,
   "id": "initial_id",
   "metadata": {
    "ExecuteTime": {
     "start_time": "2024-05-08T16:11:11.630268Z"
    },
    "collapsed": true,
    "is_executing": true,
    "jupyter": {
     "outputs_hidden": true
    }
   },
   "outputs": [],
   "source": [
    "import multiprocessing\n",
    "\n",
    "def calcular_fibonacci(n):\n",
    "    if n <= 1:\n",
    "        return n\n",
    "    a, b = 0, 1\n",
    "    for _ in range(n - 1):\n",
    "        a, b = b, a + b\n",
    "    return a\n",
    "\n",
    "def calcular_fibonacci_multiproceso(inicio, fin):\n",
    "    with multiprocessing.Pool() as pool:\n",
    "        resultados = pool.map(calcular_fibonacci, range(inicio, fin))\n",
    "    return resultados\n",
    "\n",
    "if __name__ == \"__main__\":\n",
    "    num_procesadores = multiprocessing.cpu_count()\n",
    "    terminos_por_procesador = 1000 // num_procesadores\n",
    "    rangos = [(i * terminos_por_procesador, (i + 1) * terminos_por_procesador) for i in range(num_procesadores)]\n",
    "\n",
    "    resultados = []\n",
    "    for inicio, fin in rangos:\n",
    "        resultados.extend(calcular_fibonacci_multiproceso(inicio, fin))\n",
    "\n",
    "    # Imprimir los primeros 1000 términos de Fibonacci\n",
    "    for i, resultado in enumerate(resultados):\n",
    "        print(f\"termino{i+1}: {resultado}\")\n"
   ]
  }
 ],
 "metadata": {
  "kernelspec": {
   "display_name": "Python 3 (ipykernel)",
   "language": "python",
   "name": "python3"
  },
  "language_info": {
   "codemirror_mode": {
    "name": "ipython",
    "version": 3
   },
   "file_extension": ".py",
   "mimetype": "text/x-python",
   "name": "python",
   "nbconvert_exporter": "python",
   "pygments_lexer": "ipython3",
   "version": "3.11.8"
  }
 },
 "nbformat": 4,
 "nbformat_minor": 5
}
