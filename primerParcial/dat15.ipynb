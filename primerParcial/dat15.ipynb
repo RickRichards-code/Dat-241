{
 "cells": [
  {
   "cell_type": "code",
   "execution_count": 3,
   "id": "initial_id",
   "metadata": {},
   "outputs": [
    {
     "name": "stdout",
     "output_type": "stream",
     "text": [
      "\n",
      "+--------------------------------------------------------------------+\n",
      "|                                                                    |\n",
      "|                                                                    |\n",
      "|     ooooo ooooo           o888                                     |\n",
      "|      888   888   ooooooo   888   ooooooo                           |\n",
      "|      888ooo888 888     888 888   ooooo888                          |\n",
      "|      888   888 888     888 888 888    888                          |\n",
      "|     o888o o888o  88ooo88  o888o 88ooo88 8o                         |\n",
      "|                                                                    |\n",
      "|     oooo     oooo                              oooo                |\n",
      "|      8888o   888 oooo  oooo  oo oooooo    ooooo888   ooooooo       |\n",
      "|      88 888o8 88  888   888   888   888 888    888 888     888     |\n",
      "|      88  888  88  888   888   888   888 888    888 888     888     |\n",
      "|     o88o  8  o88o  888o88 8o o888o o888o  88ooo888o  88ooo88       |\n",
      "|                                                                    |\n",
      "|                                                                    |\n",
      "+--------------------------------------------------------------------+\n",
      "\n"
     ]
    }
   ],
   "source": [
    "import os\n",
    "\n",
    "if __name__ == \"__main__\":\n",
    "    os.system(\"python hola.py\")"
   ]
  },
  {
   "cell_type": "code",
   "execution_count": null,
   "id": "67120ca4-835b-421a-ba65-c624dd8fd973",
   "metadata": {},
   "outputs": [],
   "source": []
  }
 ],
 "metadata": {
  "kernelspec": {
   "display_name": "Python 3 (ipykernel)",
   "language": "python",
   "name": "python3"
  },
  "language_info": {
   "codemirror_mode": {
    "name": "ipython",
    "version": 3
   },
   "file_extension": ".py",
   "mimetype": "text/x-python",
   "name": "python",
   "nbconvert_exporter": "python",
   "pygments_lexer": "ipython3",
   "version": "3.11.8"
  }
 },
 "nbformat": 4,
 "nbformat_minor": 5
}
